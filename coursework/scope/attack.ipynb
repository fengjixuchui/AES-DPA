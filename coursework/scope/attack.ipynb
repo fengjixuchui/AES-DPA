{
 "cells": [
  {
   "cell_type": "code",
   "execution_count": 1,
   "metadata": {},
   "outputs": [
    {
     "data": {
      "text/plain": [
       "{'divide': 'warn', 'over': 'warn', 'under': 'ignore', 'invalid': 'warn'}"
      ]
     },
     "execution_count": 1,
     "metadata": {},
     "output_type": "execute_result"
    }
   ],
   "source": [
    "import numpy, struct, sys\n",
    "import matplotlib.pyplot as plt\n",
    "numpy.seterr(divide='ignore', invalid='ignore')"
   ]
  },
  {
   "cell_type": "code",
   "execution_count": 2,
   "metadata": {},
   "outputs": [],
   "source": [
    "## Load  a trace data set from an on-disk file.\n",
    "##\n",
    "## \\param[in] f the filename to load  trace data set from\n",
    "## \\return    t the number of traces\n",
    "## \\return    s the number of samples in each trace\n",
    "## \\return    M a t-by-16 matrix of AES-128  plaintexts\n",
    "## \\return    C a t-by-16 matrix of AES-128 ciphertexts\n",
    "## \\return    T a t-by-s  matrix of samples, i.e., the traces\n",
    "\n",
    "def traces_ld( f ) :\n",
    "  fd = open( f, \"rb\" )\n",
    "\n",
    "  def rd( x ) :\n",
    "    ( r, ) = struct.unpack( x, fd.read( struct.calcsize( x ) ) ) ; return r\n",
    "\n",
    "  t = rd( '<I' )\n",
    "  s = rd( '<I' )\n",
    "\n",
    "  M = numpy.zeros( ( t, 16 ), dtype = numpy.uint8 )\n",
    "  C = numpy.zeros( ( t, 16 ), dtype = numpy.uint8 )\n",
    "  T = numpy.zeros( ( t,  s ), dtype = numpy.int16 )\n",
    "\n",
    "  for i in range( t ) :\n",
    "    for j in range( 16 ) :\n",
    "      M[ i, j ] = rd( '<B' )\n",
    "\n",
    "  for i in range( t ) :\n",
    "    for j in range( 16 ) :\n",
    "      C[ i, j ] = rd( '<B' )\n",
    "\n",
    "  for i in range( t ) :\n",
    "    for j in range( s  ) :\n",
    "      T[ i, j ] = rd( '<h' )\n",
    "\n",
    "  fd.close()\n",
    "\n",
    "  return t, s, M, C, T\n",
    "\n",
    "## Store a trace data set into an on-disk file.\n",
    "##\n",
    "## \\param[in] f the filename to store trace data set into\n",
    "## \\param[in] t the number of traces\n",
    "## \\param[in] s the number of samples in each trace\n",
    "## \\param[in] M a t-by-16 matrix of AES-128  plaintexts\n",
    "## \\param[in] C a t-by-16 matrix of AES-128 ciphertexts\n",
    "## \\param[in] T a t-by-s  matrix of samples, i.e., the traces\n",
    "\n",
    "def traces_st( f, t, s, M, C, T ) :\n",
    "  fd = open( f, \"wb\" )\n",
    "\n",
    "  def wr( x, y ) :\n",
    "    fd.write( struct.pack( x, y ) )\n",
    "\n",
    "  wr( '<I', t,  )\n",
    "  wr( '<I', s,  )\n",
    "\n",
    "  for i in range( t ) :\n",
    "    for j in range( 16 ) :\n",
    "      wr( '<B', M[ i, j ] )\n",
    "\n",
    "  for i in range( t ) :\n",
    "    for j in range( 16 ) :\n",
    "      wr( '<B', C[ i, j ] )\n",
    "\n",
    "  for i in range( t ) :\n",
    "    for j in range( s  ) :\n",
    "      wr( '<h', T[ i, j ] )\n",
    "\n",
    "  fd.close()"
   ]
  },
  {
   "cell_type": "code",
   "execution_count": 3,
   "metadata": {},
   "outputs": [],
   "source": [
    "sbox = [0x63, 0x7C, 0x77, 0x7B, 0xF2, 0x6B, 0x6F, 0xC5, 0x30, 0x01, 0x67, 0x2B, 0xFE, 0xD7, 0xAB, 0x76,\n",
    "        0xCA, 0x82, 0xC9, 0x7D, 0xFA, 0x59, 0x47, 0xF0, 0xAD, 0xD4, 0xA2, 0xAF, 0x9C, 0xA4, 0x72, 0xC0,\n",
    "        0xB7, 0xFD, 0x93, 0x26, 0x36, 0x3F, 0xF7, 0xCC, 0x34, 0xA5, 0xE5, 0xF1, 0x71, 0xD8, 0x31, 0x15,\n",
    "        0x04, 0xC7, 0x23, 0xC3, 0x18, 0x96, 0x05, 0x9A, 0x07, 0x12, 0x80, 0xE2, 0xEB, 0x27, 0xB2, 0x75,\n",
    "        0x09, 0x83, 0x2C, 0x1A, 0x1B, 0x6E, 0x5A, 0xA0, 0x52, 0x3B, 0xD6, 0xB3, 0x29, 0xE3, 0x2F, 0x84,\n",
    "        0x53, 0xD1, 0x00, 0xED, 0x20, 0xFC, 0xB1, 0x5B, 0x6A, 0xCB, 0xBE, 0x39, 0x4A, 0x4C, 0x58, 0xCF,\n",
    "        0xD0, 0xEF, 0xAA, 0xFB, 0x43, 0x4D, 0x33, 0x85, 0x45, 0xF9, 0x02, 0x7F, 0x50, 0x3C, 0x9F, 0xA8,\n",
    "        0x51, 0xA3, 0x40, 0x8F, 0x92, 0x9D, 0x38, 0xF5, 0xBC, 0xB6, 0xDA, 0x21, 0x10, 0xFF, 0xF3, 0xD2,\n",
    "        0xCD, 0x0C, 0x13, 0xEC, 0x5F, 0x97, 0x44, 0x17, 0xC4, 0xA7, 0x7E, 0x3D, 0x64, 0x5D, 0x19, 0x73,\n",
    "        0x60, 0x81, 0x4F, 0xDC, 0x22, 0x2A, 0x90, 0x88, 0x46, 0xEE, 0xB8, 0x14, 0xDE, 0x5E, 0x0B, 0xDB,\n",
    "        0xE0, 0x32, 0x3A, 0x0A, 0x49, 0x06, 0x24, 0x5C, 0xC2, 0xD3, 0xAC, 0x62, 0x91, 0x95, 0xE4, 0x79,\n",
    "        0xE7, 0xC8, 0x37, 0x6D, 0x8D, 0xD5, 0x4E, 0xA9, 0x6C, 0x56, 0xF4, 0xEA, 0x65, 0x7A, 0xAE, 0x08,\n",
    "        0xBA, 0x78, 0x25, 0x2E, 0x1C, 0xA6, 0xB4, 0xC6, 0xE8, 0xDD, 0x74, 0x1F, 0x4B, 0xBD, 0x8B, 0x8A,\n",
    "        0x70, 0x3E, 0xB5, 0x66, 0x48, 0x03, 0xF6, 0x0E, 0x61, 0x35, 0x57, 0xB9, 0x86, 0xC1, 0x1D, 0x9E,\n",
    "        0xE1, 0xF8, 0x98, 0x11, 0x69, 0xD9, 0x8E, 0x94, 0x9B, 0x1E, 0x87, 0xE9, 0xCE, 0x55, 0x28, 0xDF,\n",
    "        0x8C, 0xA1, 0x89, 0x0D, 0xBF, 0xE6, 0x42, 0x68, 0x41, 0x99, 0x2D, 0x0F, 0xB0, 0x54, 0xBB, 0x16]"
   ]
  },
  {
   "cell_type": "code",
   "execution_count": 4,
   "metadata": {},
   "outputs": [],
   "source": [
    "hamming_weights = [0, 1, 1, 2, 1, 2, 2, 3, 1, 2, 2, 3, 2, 3, 3, 4,\n",
    "                   1, 2, 2, 3, 2, 3, 3, 4, 2, 3, 3, 4, 3, 4, 4, 5,\n",
    "                   1, 2, 2, 3, 2, 3, 3, 4, 2, 3, 3, 4, 3, 4, 4, 5,\n",
    "                   2, 3, 3, 4, 3, 4, 4, 5, 3, 4, 4, 5, 4, 5, 5, 6,\n",
    "                   1, 2, 2, 3, 2, 3, 3, 4, 2, 3, 3, 4, 3, 4, 4, 5,\n",
    "                   2, 3, 3, 4, 3, 4, 4, 5, 3, 4, 4, 5, 4, 5, 5, 6,\n",
    "                   2, 3, 3, 4, 3, 4, 4, 5, 3, 4, 4, 5, 4, 5, 5, 6,\n",
    "                   3, 4, 4, 5, 4, 5, 5, 6, 4, 5, 5, 6, 5, 6, 6, 7,\n",
    "                   1, 2, 2, 3, 2, 3, 3, 4, 2, 3, 3, 4, 3, 4, 4, 5,\n",
    "                   2, 3, 3, 4, 3, 4, 4, 5, 3, 4, 4, 5, 4, 5, 5, 6,\n",
    "                   2, 3, 3, 4, 3, 4, 4, 5, 3, 4, 4, 5, 4, 5, 5, 6,\n",
    "                   3, 4, 4, 5, 4, 5, 5, 6, 4, 5, 5, 6, 5, 6, 6, 7,\n",
    "                   2, 3, 3, 4, 3, 4, 4, 5, 3, 4, 4, 5, 4, 5, 5, 6,\n",
    "                   3, 4, 4, 5, 4, 5, 5, 6, 4, 5, 5, 6, 5, 6, 6, 7,\n",
    "                   3, 4, 4, 5, 4, 5, 5, 6, 4, 5, 5, 6, 5, 6, 6, 7,\n",
    "                   4, 5, 5, 6, 5, 6, 6, 7, 5, 6, 6, 7, 6, 7, 7, 8]"
   ]
  },
  {
   "cell_type": "code",
   "execution_count": 5,
   "metadata": {},
   "outputs": [],
   "source": [
    "t, s, M, C, T = traces_ld(\"../../../dan-traces.dat\")"
   ]
  },
  {
   "cell_type": "code",
   "execution_count": 6,
   "metadata": {},
   "outputs": [],
   "source": [
    "t = 200   # Only using 200 traces\n",
    "s = 10000 # Only using first 10000 samples\n",
    "\n",
    "V = numpy.zeros((t, 256), dtype = numpy.uint8) # Hypothetical intermediate values\n",
    "H = numpy.zeros((t, 256), dtype = numpy.uint8) # Hypothetical power consumption values"
   ]
  },
  {
   "cell_type": "code",
   "execution_count": 7,
   "metadata": {},
   "outputs": [
    {
     "name": "stdout",
     "output_type": "stream",
     "text": [
      "Attacking byte 0...\n",
      "Attacking byte 1...\n",
      "Attacking byte 2...\n",
      "Attacking byte 3...\n",
      "Attacking byte 4...\n",
      "Attacking byte 5...\n",
      "Attacking byte 6...\n",
      "Attacking byte 7...\n",
      "Attacking byte 8...\n",
      "Attacking byte 9...\n",
      "Attacking byte 10...\n",
      "Attacking byte 11...\n",
      "Attacking byte 12...\n",
      "Attacking byte 13...\n",
      "Attacking byte 14...\n",
      "Attacking byte 15...\n"
     ]
    }
   ],
   "source": [
    "key = []\n",
    "\n",
    "for k in range(16):\n",
    "    print(\"Attacking byte {0}...\".format(k))\n",
    "    for i in range(t):\n",
    "        for j in range(256):\n",
    "            V[i,j] = sbox[M[i,k] ^ j]\n",
    "            H[i,j] = hamming_weights[V[i,j]]\n",
    "\n",
    "    max_correlation = 0\n",
    "    byte = 0\n",
    "\n",
    "    for i in range(256):\n",
    "        for j in range(s):\n",
    "            correlation = numpy.abs(numpy.corrcoef(H[:,i], T[0:t,j])[0][1])\n",
    "            if (correlation > max_correlation):\n",
    "                max_correlation = correlation\n",
    "                byte = i\n",
    "\n",
    "    key.append(byte)"
   ]
  },
  {
   "cell_type": "code",
   "execution_count": 8,
   "metadata": {},
   "outputs": [
    {
     "name": "stdout",
     "output_type": "stream",
     "text": [
      "[212, 150, 232, 143, 33, 64, 85, 146, 237, 24, 98, 169, 140, 104, 53, 230]\n",
      "[122   9 176 178  88 101 117 187 169  52  99 119 134 137 208 108]\n",
      "[104 215  68 131  87  64  56  49 117 170 100  76 170 143   0 231]\n"
     ]
    }
   ],
   "source": [
    "print(key)\n",
    "print(M[0,:])\n",
    "print(C[0,:])"
   ]
  }
 ],
 "metadata": {
  "kernelspec": {
   "display_name": "Python 3",
   "language": "python",
   "name": "python3"
  },
  "language_info": {
   "codemirror_mode": {
    "name": "ipython",
    "version": 3
   },
   "file_extension": ".py",
   "mimetype": "text/x-python",
   "name": "python",
   "nbconvert_exporter": "python",
   "pygments_lexer": "ipython3",
   "version": "3.6.7"
  }
 },
 "nbformat": 4,
 "nbformat_minor": 2
}
